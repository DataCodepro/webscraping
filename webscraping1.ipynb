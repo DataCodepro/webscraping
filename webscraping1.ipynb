{
 "cells": [
  {
   "cell_type": "code",
   "execution_count": 7,
   "metadata": {},
   "outputs": [
    {
     "name": "stdout",
     "output_type": "stream",
     "text": [
      "“The world as we have created it is a process of our thinking. It cannot be changed without changing our thinking.” - Albert Einstein\n",
      "“It is our choices, Harry, that show what we truly are, far more than our abilities.” - J.K. Rowling\n",
      "“There are only two ways to live your life. One is as though nothing is a miracle. The other is as though everything is a miracle.” - Albert Einstein\n",
      "“The person, be it gentleman or lady, who has not pleasure in a good novel, must be intolerably stupid.” - Jane Austen\n",
      "“Imperfection is beauty, madness is genius and it's better to be absolutely ridiculous than absolutely boring.” - Marilyn Monroe\n",
      "“Try not to become a man of success. Rather become a man of value.” - Albert Einstein\n",
      "“It is better to be hated for what you are than to be loved for what you are not.” - André Gide\n",
      "“I have not failed. I've just found 10,000 ways that won't work.” - Thomas A. Edison\n",
      "“A woman is like a tea bag; you never know how strong it is until it's in hot water.” - Eleanor Roosevelt\n",
      "“A day without sunshine is like, you know, night.” - Steve Martin\n"
     ]
    }
   ],
   "source": [
    "from bs4 import BeautifulSoup\n",
    "import requests\n",
    "import csv\n",
    "\n",
    "page_to_get = requests.get('https://quotes.toscrape.com')\n",
    "soup = BeautifulSoup(page_to_get.text,'html.parser')\n",
    "\n",
    "quotes = soup.findAll('span', attrs ={'class':'text'} )\n",
    "authors = soup.findAll('small', attrs ={'class':'author'} )\n",
    "file = open('scrapedqutoes.csv','w')\n",
    "writer = csv.writer(file)\n",
    "writer.writerow(['QUOTES','AUTHORS'])\n",
    "\n",
    "for quote,author in zip(quotes,authors):\n",
    "    print(quote.text + \" - \" + author.text)\n",
    "    writer.writerow([quote.text,author.text])\n",
    "file.close()\n",
    "\n"
   ]
  },
  {
   "cell_type": "code",
   "execution_count": null,
   "metadata": {},
   "outputs": [],
   "source": []
  }
 ],
 "metadata": {
  "interpreter": {
   "hash": "a9cff5a362bc38ef45d817ae74b1af54d6a076e3d773891282bce078b815ba34"
  },
  "kernelspec": {
   "display_name": "Python 3.10.2 64-bit",
   "language": "python",
   "name": "python3"
  },
  "language_info": {
   "codemirror_mode": {
    "name": "ipython",
    "version": 3
   },
   "file_extension": ".py",
   "mimetype": "text/x-python",
   "name": "python",
   "nbconvert_exporter": "python",
   "pygments_lexer": "ipython3",
   "version": "3.10.2"
  },
  "orig_nbformat": 4
 },
 "nbformat": 4,
 "nbformat_minor": 2
}
