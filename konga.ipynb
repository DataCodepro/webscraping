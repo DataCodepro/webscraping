{
 "cells": [
  {
   "cell_type": "code",
   "execution_count": 20,
   "metadata": {},
   "outputs": [
    {
     "name": "stdout",
     "output_type": "stream",
     "text": [
      "['Hp Stream 11 Intel Celeron D/C  4GB RAM- 64GB HDD WIN 10+ BAG', ' 110,000', '3.8 out of 5(9)']\n",
      "['Lenovo Ideapad Intel Celeron 1TB HDD 8GB RAM Win 10+ 32GB Flash', ' 167,500', '4.1 out of 5(21)']\n",
      "['Hp 15 Intel Celeron 4GB RAM 500GB Hard Drive Windows 10 - DW1207NIA - N4020 - Jet Black Mesh', ' 162,350', '4.8 out of 5(4)']\n",
      "['Lenovo Ideapad 14inch AMD Quad Core 1TB HDD 8GB RAM -Wins 10+ Mouse', ' 189,700', '4.2 out of 5(100)']\n",
      "['Hp Stream 11 Intel Celeron D/C  4GB RAM- 64GB HDD WIN 10+ BAG', ' 110,000', '4.5 out of 5(2)']\n",
      "['Hp 15 10th Gen Intel Core I3 12GB RAM,1TB HDD-WIN 10+ Free Bag', ' 285,000', '4.3 out of 5(12)']\n",
      "['Msi Katana GF76 17.3\" Gaming Laptop 16GB RAM 512GB SSD I7-11TH GEN RTX 3050 Ti(4GB) Windows 10', ' 585,000', '4.7 out of 5(7)']\n",
      "['Lenovo Ideapad 15.6 - Intel Core I3 - 12GB RAM - 1TB HDD Windows 10 PRO + Mouse', ' 225,000', '4.7 out of 5(3)']\n",
      "['Lenovo 14inch AMD Pro A6-7350B 1TB HDD 8GB RAM -Wins 10+ Mouse', ' 185,700', '3.5 out of 5(15)']\n",
      "['Hp Stream 11 Intel Celeron D/C  4GB RAM- 64GB HDD WIN 10+ BAG', ' 110,000', '4 out of 5(5)']\n",
      "['Lenovo Ideapad 15.6 - Intel Core I3 - 8GB RAM - 1TB HDD Windows 10 PRO + Mouse', ' 215,000', '5 out of 5(2)']\n",
      "['Hp Notebook 240 G8 Intel Core I3 16GB RAM/1TB HDD-WIN 10+ MOUSE', ' 258,000', '4.7 out of 5(3)']\n",
      "['Hp Pavilion 14 X360- Intel Core I3 - 512GB SSD- 16GB RAM- TOUCHSCREEEN- Convertible- Windows 10 + BAG', ' 350,000', '5 out of 5(1)']\n",
      "['Hp 15 Inch AMD RYZEN™ 3 - AMD Radeon Graphics 12GB RAM 1TB HDD Windows 10 + Mouse', ' 208,000', '4.2 out of 5(16)']\n",
      "['Hp 14 AMD ATHLON SILVER 8GB RAM 1TB HDD Windows 10 + Free Mouse', ' 202,930', '4.2 out of 5(70)']\n",
      "['Hp 250 G7 Intel Core I3(8GB,1TB HDD)Windows 10', ' 254,500', '5 out of 5(1)']\n",
      "['Hp 15 Intel Core I3-2.0Ghz (8gb Ram,1TB Hdd )Windows 10', ' 272,800', '4.2 out of 5(9)']\n",
      "['Hp Pavilion 14 X360- Intel Core I3 - 256GB SSD- 8GB RAM- TOUCHSCREEEN- Convertible- Windows 10 + BAG', ' 310,000', '4.6 out of 5(13)']\n",
      "['Hp 15 Inch AMD RYZEN™ 3 - 2.6GHz - 3.5GHz - AMD Radeon Graphics 12GB RAM 1TB HDD Windows 10 + Mouse', ' 208,000', '5 out of 5(1)']\n",
      "['Lenovo Ideapad Intel Celeron Dual Core 128GB SSD,4GB RAM 11.6\"', ' 145,800', '4 out of 5(3)']\n",
      "['Hp 15 Intel Core I3 10th Gen Touchscreen 8gb Ram 128gb SSD Wins 10 In S Mode', ' 280,000', '4.7 out of 5(3)']\n",
      "['Hp Pavilion 15 - Intel Core I5 - Touchscreen - 8GB RAM 1TB HDD Windows 10 Professional + 32GB FLASH', ' 350,000', '5 out of 5(1)']\n",
      "['Hp 250 G7 Intel Core I3(1TB HDD,8GB) Wins 10', ' 259,900', '4 out of 5(1)']\n",
      "['Asus X409U Intel Core I3 4GB RAM 1TB HDD Win 10 14.1\"', ' 229,000', '5 out of 5(1)']\n",
      "['Hp Stream 14 Intel Celeron,4GB RAM 64GB EMMC,Win 10', ' 174,500', '5 out of 5(1)']\n",
      "['Hp Pavilion 15 X360 Intel Core 13 8gb Ram 1tb Hdd Touchscreen + 32gb Flashdrive', ' 400,500', '5 out of 5(1)']\n",
      "['Hp Notebook 15 Intel Pentium Quad Core (8GB,1TB HDD+ BAG- 32GB Flash+ Mouse- USB Light For Keyboard) Windows 10 Laptop', ' 297,000', '5 out of 5(1)']\n",
      "['DELL Precision 3541 Mobile Workstation 9th Gen Intel Core I5(16gb, 256gb, 4gb Nvidia Quadpro) Wins 10pro', ' 495,000', '5 out of 5(2)']\n",
      "['Hp 15 10th Gen Intel Core I3 Touchscreen 8gb Ram 128gb SSD Wins 10 In S Mode', ' 280,000', '5 out of 5(1)']\n",
      "['Hp 14 AMD ATHLON SILVER 8GB RAM 1TB HDD Windows 10 + Free Mouse', ' 210,600', '5 out of 5(2)']\n",
      "['DELL Vostro - Intel Core I3  1tb Hdd 4gb Ram Windows 10', ' 280,000', '4 out of 5(1)']\n",
      "['Lenovo Ideapad Mini Laptop Celeron 128GB SSD 4GB RAM 11.6\"', ' 145,500', '3 out of 5(2)']\n",
      "['Hp 250 G7 Intel Celeron 8GB RAM 1TB HDD Windows 10 + Bag', ' 206,000', '4 out of 5(1)']\n",
      "['Hp 15 INTEL CORE I5 10TH GEN-8GB RAM-1TB HDD,WIN 10', ' 340,000', '4 out of 5(1)']\n",
      "['Hp Notebook 15 Intel Core I3 (12GB RAM, 1TB HDD-WIN 10 10TH GEN', ' 252,000', '5 out of 5(1)']\n",
      "['Hp 15 Intel Pentium Silver (4GB  RAM,500HDD)Wins 10+ Led Light', ' 205,500', '5 out of 5(1)']\n",
      "['Hp Stream 11 Intel Celeron D/C  4GB RAM- 32GB HDD WIN 10+ BAG', ' 134,000', '5 out of 5(1)']\n",
      "['Hp 240 G7 Intel Core I3 (1TB HDD, 8GB RAM) Windows10 Pro', ' 253,990', '5 out of 5(1)']\n",
      "['Hp 15 10th Gen Intel Core-i3 4GB RAM 1TB HDD Wins 10 + LED Lamp', ' 263,000', '4 out of 5(1)']\n",
      "['Lenovo IP S145 Intel Celeron 4GB RAM 1TB HDD 15.6 Windows 10 Laptop', ' 189,990', '5 out of 5(1)']\n"
     ]
    }
   ],
   "source": [
    "from bs4 import BeautifulSoup\n",
    "import requests\n",
    "import csv\n",
    "page_to_get = requests.get('https://www.jumia.com.ng/mlp-working-from-anywhere/?tag=Merch_38')\n",
    "soup = BeautifulSoup(page_to_get.text,'html.parser')\n",
    "lists = soup.find_all('article', class_=\"prd _fb col c-prd\")\n",
    "file = open('scrapedprice.csv','w',encoding='utf8', newline='')\n",
    "writer = csv.writer(file)\n",
    "writer.writerow(['item','price','Review'])\n",
    "for list in lists:\n",
    "\n",
    "    item = list.find('h3', class_=\"name\").text.replace('\\n', '')\n",
    "    price = list.find('div', class_=\"prc\").text.replace('\\n', '')\n",
    "    review = list.find('div', class_=\"rev\").text.replace('\\n', '')\n",
    "    price = price.strip()[1:]\n",
    "    title = item.strip()\n",
    "    info=[item,price,review]\n",
    "    writer.writerow(info)\n",
    "    print(info)\n",
    "    \n",
    "    \n",
    "file.close()"
   ]
  },
  {
   "cell_type": "code",
   "execution_count": null,
   "metadata": {},
   "outputs": [],
   "source": [
    "from bs4 import BeautifulSoup\n",
    "import requests\n",
    "from csv import writer\n",
    "\n",
    "url= \"https://www.pararius.com/apartments/amsterdam?ac=1\"\n",
    "page = requests.get(url)\n",
    "\n",
    "soup = BeautifulSoup(page.content, 'html.parser')\n",
    "lists = soup.find_all('section', class_=\"listing-search-item\")\n",
    "\n",
    "with open('housing.csv', 'w', encoding='utf8', newline='') as f:\n",
    "    thewriter = writer(f)\n",
    "    header = ['Title', 'Location', 'Price', 'Area']\n",
    "    thewriter.writerow(header)\n",
    "\n",
    "    for list in lists:\n",
    "        title = list.find('a', class_=\"listing-search-item__link--title\").text.replace('\\n', '')\n",
    "        location = list.find('div', class_=\"listing-search-item__location\").text.replace('\\n', '')\n",
    "        price = list.find('div', class_=\"listing-search-item__price\").text.replace('\\n', '')\n",
    "        area = list.find('li', class_=\"illustrated-features__item illustrated-features__item--surface-area\").text.replace('\\n', '')\n",
    "        \n",
    "        info = [title, location, price, area]\n",
    "        thewriter.writerow(info)"
   ]
  }
 ],
 "metadata": {
  "interpreter": {
   "hash": "a9cff5a362bc38ef45d817ae74b1af54d6a076e3d773891282bce078b815ba34"
  },
  "kernelspec": {
   "display_name": "Python 3.10.2 64-bit",
   "language": "python",
   "name": "python3"
  },
  "language_info": {
   "codemirror_mode": {
    "name": "ipython",
    "version": 3
   },
   "file_extension": ".py",
   "mimetype": "text/x-python",
   "name": "python",
   "nbconvert_exporter": "python",
   "pygments_lexer": "ipython3",
   "version": "3.10.2"
  },
  "orig_nbformat": 4
 },
 "nbformat": 4,
 "nbformat_minor": 2
}
