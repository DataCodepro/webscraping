{
 "cells": [
  {
   "cell_type": "code",
   "execution_count": 2,
   "metadata": {},
   "outputs": [],
   "source": [
    "from bs4 import BeautifulSoup\n",
    "import requests\n",
    "import time\n",
    "import datetime\n",
    "\n",
    "\n",
    "import smtplib"
   ]
  },
  {
   "cell_type": "code",
   "execution_count": 16,
   "metadata": {},
   "outputs": [
    {
     "name": "stdout",
     "output_type": "stream",
     "text": [
      "Aichun Beauty Collagen+Vitamin E Carrot Face Brightening Serum- 99% Oil FREE₦ 980₦ 1,80046%3.8 out of 5(1290)Jumia Express items in your order will be delivered for free (Lagos & Abuja only, excluding large items)Add To CartPei Mei Natural Vitamin C Serum.₦ 1,330₦ 1,60017%4 out of 5(623)Jumia Express items in your order will be delivered for free (Lagos & Abuja only, excluding large items)Add To CartAichun Beauty Black Facial Mask Whitening Complex + Free Black Head₦ 1,406₦ 1,65015%offers from3.8 out of 5(1190)Jumia Express items in your order will be delivered for free (Lagos & Abuja only, excluding large items)Add To CartHabetong Aloe Vera Soothing/Moisturizing Sunburn Repair Gel₦ 1,699₦ 3,50051%4.2 out of 5(380)Jumia Express items in your order will be delivered for free (Lagos & Abuja only, excluding large items)Add To CartAichun Beauty Beard Growth Oil - Rapid Result₦ 999₦ 1,20017%offers from3.4 out of 5(1766)Jumia Express items in your order will be delivered for free (Lagos & Abuja only, excluding large items)Add To CartAichun Beauty Eggs 99 Collagen + Vitamin E Face Serum₦ 930₦ 2,50063%offers from3.8 out of 5(181)Jumia Express items in your order will be delivered for free (Lagos & Abuja only, excluding large items)Add To Cart5 In 1 Electric Facial Cleansing Brush + Free Battery Gift₦ 1,990₦ 4,00050%3.8 out of 5(398)Jumia Express items in your order will be delivered for free (Lagos & Abuja only, excluding large items)Add To CartNeutrogena Sesame Body Oil₦ 3,500₦ 8,00056%4.3 out of 5(119)Add To CartOfficial StoreNIVEA Perfect & Radiant Micellar Water For Women - 400ml₦ 3,2504.3 out of 5(369)Jumia Express items in your order will be delivered for free (Lagos & Abuja only, excluding large items)Add To CartAichun Beauty Collagen+Vitamin E Snail Face Whitening Serum- 99%₦ 980₦ 1,50035%offers from3.8 out of 5(215)Jumia Express items in your order will be delivered for free (Lagos & Abuja only, excluding large items)Add To CartAlorepair Super Fast Hair And Beard Growth Spray - Minoxidil 5%₦ 3,570₦ 10,00064%offers from4.3 out of 5(96)Add To CartThe Ordinary Hyaluronic Acid 2% + B5₦ 1,899₦ 7,50075%4.5 out of 5(62)Add To CartSimple Micellar Facial Gel Wash Water Boost 150ml₦ 2,980₦ 7,00057%4.3 out of 5(54)Add To CartDr. Rashel Vitamin C Anti Aging Face Combo-{--- Cleanser,Cream,Serum}₦ 5,800₦ 20,00071%offers from4.3 out of 5(118)Add To CartDerma Roller Micro Needle Skin Multi 0.5mm₦ 2,750₦ 5,00045%offers from4.3 out of 5(89)Add To CartSurgical Disposable Face Nose Mask 3 Layer Protection 50Pcs₦ 1,750₦ 2,45029%4.4 out of 5(116)Add To CartThe Ordinary Lactic Acid 10% + HA (30ml)₦ 1,8504.4 out of 5(34)Add To CartSkin Beauty Knuckles & Black Spots Remover- Very Effective₦ 1,900₦ 5,00062%offers from3.8 out of 5(21)Add To CartOut of StockOfficial StoreNIVEA For \"US\" Natural Fairness Body Lotion For Women 400ml (x2) With All Purpose Cream For Men 150ml₦ 5,6004.5 out of 5(40)Sold outDr. Rashel Complete Facial Care Set - Face Toner, Face Cream, Eye Serum, Face Serum & Facial Cleanser₦ 10,500₦ 35,00070%offers from4.2 out of 5(19)Add To CartAichun Beauty Black Facial Mask Whitenin Complex - Black Mask₦ 1,600₦ 1,90016%3.6 out of 5(36)Add To CartAvila Intense Lightening Organic/Black Soap₦ 2,250₦ 4,00044%3.6 out of 5(32)Add To CartAichun Beauty Black Facial Whitenning Complex Mask  +  Free Black Head₦ 1,940offers from3.6 out of 5(237)Add To CartDr. Rashel VITAMIN C BRIGHTENING +ANTI AGEING SKIN CARE SERIES -5 In 1.₦ 10,680₦ 30,00064%offers from4.8 out of 5(10)Add To CartAvila Organic Lightening Black Soap₦ 1,695₦ 2,48032%offers from3.8 out of 5(259)Add To CartTea Tree Shampoo,Conditioner,Oil,Hand Wash,Facial Wash,Wipes &Scrub₦ 7,999₦ 22,00064%4.5 out of 5(16)Add To CartSkin Doctor Apricot Face + Body Scrub For Acne Treatment, Stretch Marks, Anti-ageing!₦ 4,400₦ 5,00012%4.3 out of 5(9)Add To CartAvila Intense Lightening Organic/Black Soap₦ 2,450 - ₦ 3,450₦ 3,470 - ₦ 5,50037%3.9 out of 5(166)Add To CartAichun Beauty Instant Beard Growth Natural Oil₦ 9983.3 out of 5(49)Add To CartXBC Hemp Hand Lotion  100ml₦ 2,000₦ 2,50020%4.4 out of 5(24)Add To CartBamboo Charcoal Peel Off Blackhead Remover Mask₦ 1,999offers from3.5 out of 5(17)Add To CartDerma Roller Dermaroller Micro Needle Skin Multi 0.5mm₦ 2,4504.1 out of 5(83)Add To CartEden Glycerin And Rosewater Toning And Moisturizing Liquid₦ 2,400₦ 4,00040%4 out of 5(10)Add To CartOfficial StoreNIVEA Crème Tin - 150ml (Pack Of 2)₦ 2,3003.6 out of 5(22)Jumia Express items in your order will be delivered for free (Lagos & Abuja only, excluding large items)Add To CartSkin Doctor Lemon Grass Massage Oil For All Types Of Skin,,,...₦ 3,000₦ 10,00070%5 out of 5(1)Add To CartVaseline Healthy White UV Lightening Body Lotion - 400ml₦ 2,4004.2 out of 5(15)Add To CartDr. Rashel Complete Facial Care Set ~ Face Toner+Face Cream+Eye Serum+Face Serum+Facial Cleanser!!!₦ 10,580₦ 30,00065%offers from4.6 out of 5(12)Add To CartLanbena Vitamin C Serum Anti Aging Facial Cream Sunburn Remover Skin Moisturizer₦ 3,000₦ 5,00040%4.5 out of 5(2)Add To CartPeau De Lune Eclaircissante Facial Cleanser Lotion₦ 3,000₦ 5,50045%4.8 out of 5(8)Add To CartAvila Natural Moringa Soap₦ 999₦ 1,99950%4 out of 5(14)Add To Cart\n"
     ]
    }
   ],
   "source": [
    "headers = {\"User-Agent\": \"Mozilla/5.0 (Windows NT 10.0; Win64; x64) AppleWebKit/537.36 (KHTML, like Gecko) Chrome/78.0.3904.108 Safari/537.36\", \"Accept-Encoding\":\"gzip, deflate\", \"Accept\":\"text/html,application/xhtml+xml,application/xml;q=0.9,*/*;q=0.8\", \"DNT\":\"1\",\"Connection\":\"close\", \"Upgrade-Insecure-Requests\":\"1\"}\n",
    "\n",
    "page_to_get = requests.get('https://www.jumia.com.ng/mlp-the-beauty-shop-deals/?tag=CP_UN182--Merch_73')\n",
    "soup = BeautifulSoup(page_to_get.text,'html.parser')\n",
    "item = soup.find('div', attrs ={'class':'-paxs row _no-g _4cl-3cm-shs'} )\n",
    "#price = soup.find('span', attrs ={'class':'-b -ltr -tal -fs24'} )\n",
    "\n",
    "\n",
    "\n",
    "\n",
    "print(item.text)"
   ]
  }
 ],
 "metadata": {
  "interpreter": {
   "hash": "a9cff5a362bc38ef45d817ae74b1af54d6a076e3d773891282bce078b815ba34"
  },
  "kernelspec": {
   "display_name": "Python 3.10.2 64-bit",
   "language": "python",
   "name": "python3"
  },
  "language_info": {
   "codemirror_mode": {
    "name": "ipython",
    "version": 3
   },
   "file_extension": ".py",
   "mimetype": "text/x-python",
   "name": "python",
   "nbconvert_exporter": "python",
   "pygments_lexer": "ipython3",
   "version": "3.10.2"
  },
  "orig_nbformat": 4
 },
 "nbformat": 4,
 "nbformat_minor": 2
}
