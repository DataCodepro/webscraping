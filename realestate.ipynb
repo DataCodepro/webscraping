{
 "cells": [
  {
   "cell_type": "code",
   "execution_count": 4,
   "metadata": {},
   "outputs": [],
   "source": [
    "from bs4 import BeautifulSoup\n",
    "import requests\n",
    "from csv import writer\n",
    "\n",
    "url= \"https://www.pararius.com/apartments/amsterdam?ac=1\"\n",
    "page = requests.get(url)\n",
    "\n",
    "soup = BeautifulSoup(page.content, 'html.parser')\n",
    "lists = soup.find_all('section', class_=\"listing-search-item\")\n",
    "\n",
    "with open('housing.csv', 'w', encoding='utf8', newline='') as f:\n",
    "    thewriter = writer(f)\n",
    "    header = ['Title', 'Location', 'Price', 'Area']\n",
    "    thewriter.writerow(header)\n",
    "\n",
    "    for list in lists:\n",
    "        title = list.find('a', class_=\"listing-search-item__link--title\").text.replace('\\n', '')\n",
    "        location = list.find('div', class_=\"listing-search-item__location\").text.replace('\\n', '')\n",
    "        price = list.find('div', class_=\"listing-search-item__price\").text.replace('\\n', '')\n",
    "        area = list.find('li', class_=\"illustrated-features__item illustrated-features__item--surface-area\").text.replace('\\n', '')\n",
    "        \n",
    "        info = [title, location, price, area]\n",
    "        thewriter.writerow(info)"
   ]
  },
  {
   "cell_type": "code",
   "execution_count": null,
   "metadata": {},
   "outputs": [],
   "source": []
  }
 ],
 "metadata": {
  "interpreter": {
   "hash": "a9cff5a362bc38ef45d817ae74b1af54d6a076e3d773891282bce078b815ba34"
  },
  "kernelspec": {
   "display_name": "Python 3.10.2 64-bit",
   "language": "python",
   "name": "python3"
  },
  "language_info": {
   "codemirror_mode": {
    "name": "ipython",
    "version": 3
   },
   "file_extension": ".py",
   "mimetype": "text/x-python",
   "name": "python",
   "nbconvert_exporter": "python",
   "pygments_lexer": "ipython3",
   "version": "3.10.2"
  },
  "orig_nbformat": 4
 },
 "nbformat": 4,
 "nbformat_minor": 2
}
